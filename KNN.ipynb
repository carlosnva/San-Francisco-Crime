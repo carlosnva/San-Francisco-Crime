{
 "cells": [
  {
   "cell_type": "code",
   "execution_count": null,
   "metadata": {},
   "outputs": [],
   "source": [
    "import pandas as pd\n",
    "import numpy as np\n",
    "import zipfile\n",
    "import matplotlib.pyplot as pl\n",
    "import seaborn as sns\n",
    "import math\n",
    "from sklearn.ensemble import RandomForestClassifier\n",
    "from sklearn import tree\n",
    "\n",
    "# Supplied map bounding box:\n",
    "#    ll.lon     ll.lat   ur.lon     ur.lat\n",
    "#    -122.52469 37.69862 -122.33663 37.82986\n",
    "\n",
    "#mapdata = np.loadtxt(\"../input/sf_map_copyright_openstreetmap_contributors.txt\")\n",
    "#asp = mapdata.shape[0] * 1.0 / mapdata.shape[1]\n",
    "\n",
    "#lon_lat_box = (-122.5247, -122.3366, 37.699, 37.8299)\n",
    "#clipsize = [[-122.5247, -122.3366],[ 37.699, 37.8299]]\n",
    "\n",
    "z = zipfile.ZipFile('./input/train.csv.zip')\n",
    "df = pd.read_csv(z.open('train.csv'))\n",
    "\n",
    "z = zipfile.ZipFile('./input/test.csv.zip')\n",
    "test = pd.read_csv(z.open('test.csv'))\n",
    "\n",
    "\n",
    "\n",
    "\n",
    "#Treatment of Dates -> Keep only the hour\n",
    "def hr_func(ts):\n",
    "    return (float)(ts[11:13])\n",
    "df['Dates'] = df['Dates'].apply(hr_func)\n",
    "#Treatment of Hour -> Circular\n",
    "df['HourCos']=0\n",
    "df['HourSin']=0\n",
    "\n",
    "def hourtocos(ts):\n",
    "    ts=ts*2*math.pi/24\n",
    "    return math.cos(ts)\n",
    "\n",
    "def hourtosin(ts):\n",
    "    ts=ts*2*math.pi/24\n",
    "    return math.sin(ts)\n",
    "\n",
    "\n",
    "df['HourCos']=df['Dates'].apply(hourtocos)\n",
    "df['HourSin']=df['Dates'].apply(hourtosin)\n",
    "\n",
    "\n",
    "\n",
    "X = df[['X','Y','HourCos','HourSin']]\n",
    "Y=df[['Category']]\n",
    "clf=RandomForestClassifier(n_estimators=100,min_samples_split=350)\n",
    "clf.fit(X,Y)\n",
    "\n",
    "outcomes = clf.predict_proba()\n",
    "\n",
    "\n",
    "\n",
    "\n"
   ]
  },
  {
   "cell_type": "code",
   "execution_count": null,
   "metadata": {},
   "outputs": [],
   "source": []
  },
  {
   "cell_type": "code",
   "execution_count": null,
   "metadata": {},
   "outputs": [],
   "source": [
    "outcomes<0.01"
   ]
  }
 ],
 "metadata": {
  "kernelspec": {
   "display_name": "Python 3",
   "language": "python",
   "name": "python3"
  },
  "language_info": {
   "codemirror_mode": {
    "name": "ipython",
    "version": 3
   },
   "file_extension": ".py",
   "mimetype": "text/x-python",
   "name": "python",
   "nbconvert_exporter": "python",
   "pygments_lexer": "ipython3",
   "version": "3.6.6"
  }
 },
 "nbformat": 4,
 "nbformat_minor": 1
}
