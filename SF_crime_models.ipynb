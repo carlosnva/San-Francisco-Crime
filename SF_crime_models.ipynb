{
 "cells": [
  {
   "cell_type": "code",
   "execution_count": 1,
   "metadata": {},
   "outputs": [
    {
     "name": "stderr",
     "output_type": "stream",
     "text": [
      "/home/canf/anaconda3/lib/python3.6/site-packages/sklearn/ensemble/weight_boosting.py:29: DeprecationWarning: numpy.core.umath_tests is an internal NumPy module and should not be imported. It will be removed in a future NumPy release.\n",
      "  from numpy.core.umath_tests import inner1d\n"
     ]
    }
   ],
   "source": [
    "import pandas as pd\n",
    "\n",
    "from sklearn import ensemble\n",
    "from sklearn.model_selection import cross_validate\n",
    "from sklearn import metrics\n",
    "from sklearn.naive_bayes import MultinomialNB,BernoulliNB,GaussianNB\n",
    "import gzip"
   ]
  },
  {
   "cell_type": "code",
   "execution_count": 2,
   "metadata": {},
   "outputs": [],
   "source": [
    "def loadData(df, scaler=None):\n",
    "    data = pd.DataFrame(index=range(len(df)))\n",
    "    \n",
    "    data = df.get(['X','Y'])\n",
    "    \n",
    "    DayOfWeeks = df.DayOfWeek.unique()\n",
    "    DayOfWeekMap = {}\n",
    "    i = 0\n",
    "    for day in DayOfWeeks:\n",
    "        DayOfWeekMap[day] = i\n",
    "        i += 1\n",
    "    data = data.join(df['DayOfWeek'].map(DayOfWeekMap))\n",
    "    \n",
    "    PdDistricts = df.PdDistrict.unique()\n",
    "    PdDistrictMap = {}\n",
    "    i = 0\n",
    "    for s in PdDistricts:\n",
    "        PdDistrictMap[s] = i\n",
    "        i += 1\n",
    "    data = data.join(df['PdDistrict'].map(PdDistrictMap))\n",
    "        \n",
    "    date_time = pd.to_datetime(df.Dates)\n",
    "    year = date_time.dt.year\n",
    "    data['Year'] = year\n",
    "    month = date_time.dt.month\n",
    "    data['Month'] = month\n",
    "    day = date_time.dt.day\n",
    "    data['Day'] = day\n",
    "    hour = date_time.dt.hour\n",
    "    data['hour'] = hour\n",
    "    minute = date_time.dt.minute\n",
    "    time = hour*60+minute\n",
    "    data['Time'] = time\n",
    "    \n",
    "    data['StreetCorner'] = df['Address'].str.contains('/').map(int)\n",
    "    data['Block'] = df['Address'].str.contains('Block').map(int)\n",
    "    \n",
    "    X = data.values\n",
    "    Y = None\n",
    "    if 'Category' in df.columns:\n",
    "        Y = df.Category.values\n",
    "    \n",
    "    return X, Y, scaler"
   ]
  },
  {
   "cell_type": "code",
   "execution_count": 3,
   "metadata": {},
   "outputs": [],
   "source": [
    "def RFpredict(X,Y,Xhat):\n",
    "    clf = ensemble.RandomForestClassifier()\n",
    "    clf.set_params(min_samples_split=1000)\n",
    "    clf.fit(X,Y)\n",
    "    Yhat = clf.predict_proba(Xhat)\n",
    "    return Yhat,clf\n",
    "\n",
    "def NBpredict(X,Y,Xhat):\n",
    "    clf = GaussianNB()\n",
    "    clf.fit(X,Y)\n",
    "    Yhat = clf.predict_proba(Xhat)\n",
    "    return Yhat,clf"
   ]
  },
  {
   "cell_type": "code",
   "execution_count": 4,
   "metadata": {},
   "outputs": [],
   "source": [
    "train = pd.read_csv(\"./input/train.csv\")\n",
    "X,Y,scaler = loadData(train)\n",
    "\n",
    "test = pd.read_csv(\"./input/test.csv\")\n",
    "Xhat,_,__ = loadData(test)\n"
   ]
  },
  {
   "cell_type": "code",
   "execution_count": 5,
   "metadata": {},
   "outputs": [
    {
     "name": "stdout",
     "output_type": "stream",
     "text": [
      "-------------------------------------------------------------------------\n",
      "[[-1.22425892e+02  3.77745986e+01  0.00000000e+00 ...  1.43300000e+03\n",
      "   1.00000000e+00  0.00000000e+00]\n",
      " [-1.22425892e+02  3.77745986e+01  0.00000000e+00 ...  1.43300000e+03\n",
      "   1.00000000e+00  0.00000000e+00]\n",
      " [-1.22424363e+02  3.78004143e+01  0.00000000e+00 ...  1.41300000e+03\n",
      "   1.00000000e+00  0.00000000e+00]\n",
      " ...\n",
      " [-1.22403390e+02  3.77802656e+01  2.00000000e+00 ...  1.00000000e+00\n",
      "   1.00000000e+00  0.00000000e+00]\n",
      " [-1.22390531e+02  3.77806071e+01  2.00000000e+00 ...  1.00000000e+00\n",
      "   1.00000000e+00  0.00000000e+00]\n",
      " [-1.22394926e+02  3.77382115e+01  2.00000000e+00 ...  1.00000000e+00\n",
      "   0.00000000e+00  1.00000000e+00]]\n",
      "-------------------------------------------------------------------------\n",
      "['WARRANTS' 'OTHER OFFENSES' 'OTHER OFFENSES' ... 'LARCENY/THEFT'\n",
      " 'VANDALISM' 'FORGERY/COUNTERFEITING']\n",
      "-------------------------------------------------------------------------\n",
      "[[-1.22399588e+02  3.77350510e+01  0.00000000e+00 ...  1.43900000e+03\n",
      "   0.00000000e+00  1.00000000e+00]\n",
      " [-1.22391523e+02  3.77324324e+01  0.00000000e+00 ...  1.43100000e+03\n",
      "   1.00000000e+00  0.00000000e+00]\n",
      " [-1.22426002e+02  3.77922124e+01  0.00000000e+00 ...  1.43000000e+03\n",
      "   0.00000000e+00  1.00000000e+00]\n",
      " ...\n",
      " [-1.22445418e+02  3.77120748e+01  4.00000000e+00 ...  1.00000000e+00\n",
      "   0.00000000e+00  1.00000000e+00]\n",
      " [-1.22387394e+02  3.77394793e+01  4.00000000e+00 ...  1.00000000e+00\n",
      "   0.00000000e+00  1.00000000e+00]\n",
      " [-1.22489714e+02  3.77339498e+01  4.00000000e+00 ...  1.00000000e+00\n",
      "   0.00000000e+00  1.00000000e+00]]\n"
     ]
    }
   ],
   "source": [
    "print('-------------------------------------------------------------------------')\n",
    "print(X)\n",
    "print('-------------------------------------------------------------------------')\n",
    "print(Y)\n",
    "print('-------------------------------------------------------------------------')\n",
    "print(Xhat)"
   ]
  },
  {
   "cell_type": "code",
   "execution_count": null,
   "metadata": {},
   "outputs": [],
   "source": []
  }
 ],
 "metadata": {
  "kernelspec": {
   "display_name": "Python 3",
   "language": "python",
   "name": "python3"
  },
  "language_info": {
   "codemirror_mode": {
    "name": "ipython",
    "version": 3
   },
   "file_extension": ".py",
   "mimetype": "text/x-python",
   "name": "python",
   "nbconvert_exporter": "python",
   "pygments_lexer": "ipython3",
   "version": "3.6.6"
  }
 },
 "nbformat": 4,
 "nbformat_minor": 2
}
